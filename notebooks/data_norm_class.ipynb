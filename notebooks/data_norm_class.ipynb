{
 "cells": [
  {
   "cell_type": "markdown",
   "id": "f96d56a4",
   "metadata": {},
   "source": [
    "# Data Normalization Mini Class"
   ]
  },
  {
   "cell_type": "code",
   "execution_count": null,
   "id": "f3c2496c",
   "metadata": {},
   "outputs": [],
   "source": [
    "import os\n",
    "\n",
    "import pandas as pd\n",
    "import sqlite3\n",
    "import matplotlib.pyplot as plt\n",
    "\n",
    "from data_norm_class.constants import (\n",
    "    FILE_DATA_RAW,\n",
    "    FOLDER_DATA_NORMALIZED,\n",
    "    FOLDER_DB\n",
    ")\n",
    "from data_norm_class.io import (\n",
    "    read_raw_aarc_data\n",
    ")\n",
    "from data_norm_class.normalization import (\n",
    "    normalize_data\n",
    ")"
   ]
  },
  {
   "cell_type": "code",
   "execution_count": null,
   "id": "2baced9a",
   "metadata": {},
   "outputs": [],
   "source": [
    "FOLDER_DATA_NORMALIZED = os.path.join(\"..\", FOLDER_DATA_NORMALIZED)\n",
    "FILE_DATA_RAW = os.path.join(\"..\", FILE_DATA_RAW)\n",
    "FOLDER_DB = os.path.join(\"..\", FOLDER_DB)"
   ]
  },
  {
   "cell_type": "markdown",
   "id": "6c879c64",
   "metadata": {},
   "source": [
    "## What's wrong with single CSV files?"
   ]
  },
  {
   "cell_type": "markdown",
   "id": "dd4d442f",
   "metadata": {},
   "source": [
    "- CSV files are a great way to store your tabular data without much memory overhead\n",
    "- The tabular structure is flexible and CSVs are accessible across domains and tools\n",
    "- It's a great way to store data in which each row is a unique **entity**\n",
    "- If this uniqueness is violated, things easily become messy\n",
    "\n",
    "Let's use a random subset of 40 departments of the `AARC-v3` dataset as our sample."
   ]
  },
  {
   "cell_type": "code",
   "execution_count": null,
   "id": "4b196149",
   "metadata": {},
   "outputs": [],
   "source": [
    "aarc_sample_raw = read_raw_aarc_data(FILE_DATA_RAW)\n",
    "aarc_sample_raw.head()"
   ]
  },
  {
   "cell_type": "markdown",
   "id": "6f721946",
   "metadata": {},
   "source": [
    "On a first glance, the file structure might suggest that each row stands for a faculty (identified by `PersonId`) being hired at a department (`DepartmentId`) in a given year (`Year`) with additional metadata.\n",
    "\n",
    "Let's check this assumption by comparing the number of unique rows for these triplets."
   ]
  },
  {
   "cell_type": "code",
   "execution_count": null,
   "id": "ff951f73",
   "metadata": {},
   "outputs": [],
   "source": [
    "print((\n",
    "    \"Number of unique PersonId, Year, and DepartmentId combinations: \"\n",
    "    f\"{aarc_sample_raw[['PersonId', 'Year', 'DepartmentId']].drop_duplicates().shape[0]}\\n\"\n",
    "    f\"Number of rows in the raw data: {aarc_sample_raw.shape[0]}\"))\n"
   ]
  },
  {
   "cell_type": "markdown",
   "id": "a25212f2",
   "metadata": {},
   "source": [
    "The AARC dataset can be considered as **relational data**, which consists of\n",
    "- **entities** refer to individually identifiable objects (e.g., faculty members, departments, fields, ...)\n",
    "- **relationships** are connections between entities (e.g., faculty being hired at a department, a department being assigned to a field in a given year)\n",
    "- **attributes** of entities or relationships that provide contextual information (e.g., the year of faculty hiring or a faculty member's name) \n",
    "\n",
    "There is a mismatch of roughly 4,000 rows, because the dataset contains the all combinations of multiple **entities**, all of their **relationships** and **attributes**.\n",
    "This leads to multiple problems."
   ]
  },
  {
   "cell_type": "markdown",
   "id": "c5b2f8a7",
   "metadata": {},
   "source": [
    "### Redundancy\n",
    "- Much of the information is **redundant** across rows\n",
    "  - for instance, consider the `DepartmentName` column"
   ]
  },
  {
   "cell_type": "code",
   "execution_count": null,
   "id": "b846f3f4",
   "metadata": {},
   "outputs": [],
   "source": [
    "aarc_sample_raw[\"DepartmentName\"].nunique()"
   ]
  },
  {
   "cell_type": "markdown",
   "id": "7fedb85b",
   "metadata": {},
   "source": [
    "This column stores only 34 different values because it only holds a single information per department.\n",
    "However, these values are repeated across all 12k rows, which is very memory-inefficient."
   ]
  },
  {
   "cell_type": "code",
   "execution_count": null,
   "id": "0145490b",
   "metadata": {},
   "outputs": [],
   "source": [
    "print((\"Memory usage of the 'DepartmentName' column: \"\n",
    "       f\"{aarc_sample_raw['DepartmentName'].memory_usage(index=False, deep=True) / 1024**2:.2f} MB\"))"
   ]
  },
  {
   "cell_type": "markdown",
   "id": "c646bd64",
   "metadata": {},
   "source": [
    "Recall that this is just a small sample of the full data. \n",
    "The entire original dataset contains ~916MB of data which can quickly increase when performing join-operations.\n",
    "Normalizing the data will improve this by assigning `DepartmentName`s only to the entity that it's relevant for (departments) and isolating this relationship from others in separate tables.\n",
    "\n",
    "Redundancy also entails repeated relationships.\n",
    "As we've seen before, each row holds a combination of all possible relationships between the columns `(DepartmentId, PersonId, Year, Taxonomy)`.\n",
    "This way, all `(DepartmentId, PersonId, Year)` hirings are repeated multiple times if a department is assigned to multiple umbrellas. \n",
    "This is not only inefficient, but prone to errors when aggregating data based on these attributes.\n",
    "\n",
    "Another problem with redundant data are the costs of alteration.\n",
    "Updates always affect all entries in our entire dataset.\n",
    "If updates are common, e.g., in databases storing users, this can quickly become a bottleneck, slowing down other operations.\n",
    "Adding other relationships, e.g., publication data, requires joining the entire data.\n",
    "In this example, each `(PersonId, Year)` item would be linked to all its publications.\n",
    "Because `(PersonId, Year)` is already redundant, this would greatly increase the dataset size.\n"
   ]
  },
  {
   "cell_type": "markdown",
   "id": "585ef306",
   "metadata": {},
   "source": [
    "### Integrity"
   ]
  },
  {
   "cell_type": "markdown",
   "id": "9d9cd71b",
   "metadata": {},
   "source": [
    "- each row in AARC is **uniquely identfiable** only by a tuple of `(DepartmentId, PersonId, Year, Taxonomy)`\n",
    "  - many entities (like domains) and relationships (faculty hiring) are not directly identifiable\n",
    "- **entity integrity** ensures that entities are identifiable\n",
    "  - they must have a **primary key**: a unique identifier differentiating them from each other\n",
    "  - no two entities should have the same primary key and it should not be missing\n",
    "  - the `AARCv3` data already has these identifiers for faculty (`PersonId`), departments (`DepartmentId`) and institutions (`InstitutionId`)\n",
    "    - this makes it possible to differentiate between entities with similar attributes, e.g., people of the same name"
   ]
  },
  {
   "cell_type": "code",
   "execution_count": null,
   "id": "40b270fa",
   "metadata": {},
   "outputs": [],
   "source": [
    "aarc_sample_raw[[\"PersonId\", \"DepartmentId\", \"InstitutionId\"]]\\\n",
    "    .nunique()"
   ]
  },
  {
   "cell_type": "markdown",
   "id": "2f6a3550",
   "metadata": {},
   "source": [
    "- however, there are no explicit identifiers for relationships\n",
    "- **foreign integrity** ensures that relationships link to valid entities\n",
    "  - for this purpose, a **foreign key** maps between items in one table to existing entities in another table\n",
    "    - for instance, if we had a table of publication records with `PersonId` as a foreign key, these should point to a single, valid faculty member\n",
    "- making relationships identifiable allows us to easily extend the data by assigning metadata\n",
    "  - for instance, assigning faculty `Rank` to their hiring at a given year  \n",
    "- we will need to ensure this integrity when splitting our dataset into  multiple tables in the normalization process"
   ]
  },
  {
   "cell_type": "markdown",
   "id": "418b3097",
   "metadata": {},
   "source": [
    "## Data normalization\n",
    "- data normalization ensures non-redundancy and integrity in entities and relations\n",
    "- by isolating entities from their relations, it improves \n",
    "  - expressiveness\n",
    "  - size requirements\n",
    "  - extendibility\n",
    "- various **normal forms** pose increasing demands\n",
    "- typically, a dataset is consider normalized, if it follows the third normal form **3NF**"
   ]
  },
  {
   "cell_type": "markdown",
   "id": "a5b97f81",
   "metadata": {},
   "source": [
    "### 3. Normal Form (3NF)"
   ]
  },
  {
   "cell_type": "markdown",
   "id": "0ad939bd",
   "metadata": {},
   "source": [
    "3NF requires that \n",
    "1. each cell only stores an atomic value (no lists or other collections like `json`)\n",
    "2. all non-key columns (or **attributes**) depend on the entire primary key, not just parts of it\n",
    "3. there are no transitive relationships in which one attribute depends on another \n",
    "\n",
    "Let's have a look at the columns of `AARC-v3`."
   ]
  },
  {
   "cell_type": "code",
   "execution_count": null,
   "id": "fe4b5599",
   "metadata": {},
   "outputs": [],
   "source": [
    "aarc_sample_raw.columns"
   ]
  },
  {
   "cell_type": "markdown",
   "id": "7a7ad9bd",
   "metadata": {},
   "source": [
    "#### 3NF violations of AARC-v3"
   ]
  },
  {
   "cell_type": "markdown",
   "id": "142d58a0",
   "metadata": {},
   "source": [
    "- `AARC-v3` does not violate the first requirement (all columns contain atomic values only)\n",
    "- the **primary key** of this table is a **compound key** of \n",
    "  - `PersonId`\n",
    "  - `DepartmentId`\n",
    "  - `Year`\n",
    "  - `Umbrella`\n",
    "  "
   ]
  },
  {
   "cell_type": "code",
   "execution_count": null,
   "id": "c3986762",
   "metadata": {},
   "outputs": [],
   "source": [
    "aarc_sample_raw\\\n",
    "    [[\"PersonId\", \"DepartmentId\", \"Year\", \"Taxonomy\"]]\\\n",
    "    .drop_duplicates()\\\n",
    "    .shape"
   ]
  },
  {
   "cell_type": "code",
   "execution_count": null,
   "id": "d91554b6",
   "metadata": {},
   "outputs": [],
   "source": [
    "aarc_sample_raw.shape"
   ]
  },
  {
   "cell_type": "markdown",
   "id": "45ea34bd",
   "metadata": {},
   "source": [
    "- violations of the second and third requirements include\n",
    "  - (2.) `PersonName` depending only on `PersonId`\n",
    "  - (2.) `Rank` depending only on `(DepartmentId, PersonId, Year)`\n",
    "  - (3.) `InstitutionName` depending on `InstitutionId` which depends on `DepartmentId` only (2.)\n",
    "- see [appendix](#other-normal-forms) for details on other normal forms\n",
    "  - in any real setting you typically go straight to 3NF \n",
    "  - but how?"
   ]
  },
  {
   "cell_type": "markdown",
   "id": "c5c6e499",
   "metadata": {},
   "source": [
    "### Entity-Relationship diagram\n",
    "- first, map out the **entities** and **relationships** in your data in an **Entity-Relation diagram** ([ERD](https://en.wikipedia.org/wiki/Entity%E2%80%93relationship_model))"
   ]
  },
  {
   "cell_type": "markdown",
   "id": "c332ea5e",
   "metadata": {},
   "source": [
    "```mermaid\n",
    "erDiagram\n",
    "    persons {\n",
    "        int PersonId PK\n",
    "        int DegreeInstitutionId FK\n",
    "        string PersonName\n",
    "        int DegreeYear\n",
    "        string Gender\n",
    "    }\n",
    "\n",
    "    institutions {\n",
    "        int InstitutionId PK\n",
    "        string InstitutionName\n",
    "    }\n",
    "\n",
    "    departments {\n",
    "        int DepartmentId PK\n",
    "        string DepartmentName\n",
    "    }\n",
    "\n",
    "    taxonomies {\n",
    "        int TaxonomyId PK\n",
    "        string Taxonomy\n",
    "    }\n",
    "\n",
    "    fields {\n",
    "        int FieldId PK\n",
    "        string Field\n",
    "    }\n",
    "\n",
    "    areas {\n",
    "        int AreaId PK\n",
    "        string Area\n",
    "    }\n",
    "\n",
    "    umbrellas {\n",
    "        int UmbrellaId PK\n",
    "        string Umbrella\n",
    "    }\n",
    "\n",
    "    department_taxonomy {\n",
    "        int DepartmentId PK, FK\n",
    "        int TaxonomyId PK, FK\n",
    "        int AreaId FK\n",
    "        int FieldId FK\n",
    "        int UmbrellaId FK\n",
    "    }\n",
    "\n",
    "    appointments {\n",
    "        int PersonId PK, FK \n",
    "        int InstitutionId PK, FK \n",
    "        int DepartmentId PK, FK\n",
    "        int Year PK \n",
    "        string Rank\n",
    "        boolean PrimaryAppointment\n",
    "        boolean Imputed\n",
    "    }\n",
    "\n",
    "    persons }o--o| institutions : \"degree_from\"\n",
    "\n",
    "    appointments }|--|| persons : \"has_appointment\"\n",
    "    appointments }o..o| institutions : \"at_institution\"\n",
    "    appointments }|--|| departments : \"in_department\"\n",
    "\n",
    "    department_taxonomy }o--|{ departments : \"maps_department\"\n",
    "    department_taxonomy }o--|{ taxonomies : \"maps_taxonomy\"\n",
    "    department_taxonomy }o--o{ fields : \"maps_field\"\n",
    "    department_taxonomy }o--o{ areas : \"maps_area\"\n",
    "    department_taxonomy }o--o{ umbrellas : \"maps_umbrella\"\n",
    "```"
   ]
  },
  {
   "cell_type": "markdown",
   "id": "99b1c2fb",
   "metadata": {},
   "source": [
    "Next, we split the giant table into separate tables for each entity and relationship."
   ]
  },
  {
   "cell_type": "markdown",
   "id": "97152208",
   "metadata": {},
   "source": [
    "### Transforming AARC to 3NF\n",
    "The `normalize_data` function implements the transformation from the unnormalized table to a collection of tables.\n",
    "It returns a custom `AARCCollection` object that stores the tables as members."
   ]
  },
  {
   "cell_type": "code",
   "execution_count": null,
   "id": "25306cd4",
   "metadata": {},
   "outputs": [],
   "source": [
    "aarc_nf = normalize_data(aarc_sample_raw)"
   ]
  },
  {
   "cell_type": "code",
   "execution_count": null,
   "id": "71f73b5e",
   "metadata": {},
   "outputs": [],
   "source": [
    "aarc_nf.appointments"
   ]
  },
  {
   "cell_type": "markdown",
   "id": "31f171a2",
   "metadata": {},
   "source": [
    "To create entity tables, we simply aggregate the respective attributes by the respective primary key:\n",
    "\n",
    "```python\n",
    "    df_persons = df_data.groupby(\"PersonId\")\\\n",
    "        .aggregate({\n",
    "            \"Gender\": \"first\",\n",
    "            \"DegreeYear\": \"first\",\n",
    "            \"PersonName\": \"first\",\n",
    "            \"DegreeInstitutionId\": \"first\",\n",
    "    })\n",
    "```\n",
    "\n",
    "Relationship tables are created by aggregating over the compound primary keys:\n",
    "\n",
    "```python\n",
    "    df_appointments = df_data\\\n",
    "        .groupby(\n",
    "            [\"PersonId\", \"Year\", \"DepartmentId\", \"InstitutionId\"],\n",
    "            dropna=False)\\\n",
    "        .aggregate({\n",
    "            \"Rank\": \"first\",\n",
    "            \"PrimaryAppointment\": \"first\"\n",
    "        })\n",
    "```\n",
    "\n",
    "Check the function's code to see details on how to create artificial IDs for entities that do not have a primary key yet (e.g., `Umbrellas`)."
   ]
  },
  {
   "cell_type": "markdown",
   "id": "0ac78f04",
   "metadata": {},
   "source": [
    "By avoiding most of the redundancy, the size of the entire dataset reduced from 3MB to 1MB."
   ]
  },
  {
   "cell_type": "markdown",
   "id": "31e5871a",
   "metadata": {},
   "source": [
    "### Simple statistics\n",
    "From here, it's very easy to produce simple statistics on the entity and relationship tables without worrying about duplicates!\n",
    "For instance, plotting the distribution of degree years per person:"
   ]
  },
  {
   "cell_type": "code",
   "execution_count": null,
   "id": "fa93256e",
   "metadata": {},
   "outputs": [],
   "source": [
    "aarc_nf.persons[\"DegreeYear\"].hist()\n",
    "plt.xlabel(\"Degree Year\")\n",
    "plt.ylabel(\"Frequency\")"
   ]
  },
  {
   "cell_type": "markdown",
   "id": "278da215",
   "metadata": {},
   "source": [
    "In the previous dataset, we first had to remove duplicates, because faculty appear in multiple rows. This is error-prone."
   ]
  },
  {
   "cell_type": "markdown",
   "id": "6220a528",
   "metadata": {},
   "source": [
    "### Joining\n",
    "More complicated analysis require re-joining the separate tables back together.\n",
    "For instance, to show the number of departments per umbrella, we need the umbrella names from `aarc_nf.umbrellas`."
   ]
  },
  {
   "cell_type": "code",
   "execution_count": null,
   "id": "7962e300",
   "metadata": {},
   "outputs": [],
   "source": [
    "aarc_nf.department_taxonomies\\\n",
    "    .join(\n",
    "        aarc_nf.umbrellas,\n",
    "        on=\"UmbrellaId\", # the foreign key in `department_taxonomies`\n",
    "        how=\"left\", # left join keeps all rows from `department_taxonomies`\n",
    "        )\\\n",
    "    .groupby([\n",
    "        \"UmbrellaId\", # in case of duplicate umbrella names\n",
    "        \"Umbrella\"])\\\n",
    "    [\"DepartmentId\"]\\\n",
    "    .nunique()\\\n",
    "    .sort_index()"
   ]
  },
  {
   "cell_type": "markdown",
   "id": "716f1e4c",
   "metadata": {},
   "source": [
    "Let's compute the annual department sizes per gender as another example."
   ]
  },
  {
   "cell_type": "code",
   "execution_count": null,
   "id": "fa5a0faf",
   "metadata": {},
   "outputs": [],
   "source": [
    "aarc_nf.appointments\\\n",
    "    .join(aarc_nf.persons[\"Gender\"],\n",
    "          on=\"PersonId\")\\\n",
    "    .groupby([\"DepartmentId\", \"Gender\", \"Year\"])\\\n",
    "    .size()\\\n",
    "    .sort_index()"
   ]
  },
  {
   "cell_type": "markdown",
   "id": "0aa82650",
   "metadata": {},
   "source": [
    "Joins are a complex topic on their own.\n",
    "For the start, you have to keep in mind missing data."
   ]
  },
  {
   "cell_type": "code",
   "execution_count": null,
   "id": "abdacb0f",
   "metadata": {},
   "outputs": [],
   "source": [
    "aarc_nf.department_taxonomies.isna().sum()"
   ]
  },
  {
   "cell_type": "markdown",
   "id": "c7bfe338",
   "metadata": {},
   "source": [
    "In seven rows, the `FieldId` is not set. This has consequences when joining the respective `fields`-table, because you need to decide how these rows should be handled.\n",
    "The default, a **left-join**, is to consider the first table (on which you call the `.join`-method) as the source table and keep all its rows.\n",
    "Keys that could not be matched are filled with empty attributes.\n",
    "If your data follows **foreign integrity** this only occurs for empty foreign-keys."
   ]
  },
  {
   "cell_type": "code",
   "execution_count": null,
   "id": "5c2b4755",
   "metadata": {},
   "outputs": [],
   "source": [
    "l_join = aarc_nf.department_taxonomies.join(\n",
    "    aarc_nf.fields,\n",
    "    on=\"FieldId\",\n",
    "    how=\"left\" # the default\n",
    ")\n",
    "l_join[l_join[\"FieldId\"].isna()]"
   ]
  },
  {
   "cell_type": "markdown",
   "id": "169bacf0",
   "metadata": {},
   "source": [
    "A **right-join** considers the joined table as source table instead and keeps all its rows. \n",
    "This ignores (!) rows in the other table for which no `FieldId` could be found."
   ]
  },
  {
   "cell_type": "code",
   "execution_count": null,
   "id": "2497661a",
   "metadata": {},
   "outputs": [],
   "source": [
    "r_join = aarc_nf.department_taxonomies.join(\n",
    "    aarc_nf.fields,\n",
    "    on=\"FieldId\",\n",
    "    how=\"right\"\n",
    ")\n",
    "r_join[r_join[\"FieldId\"].isna()]"
   ]
  },
  {
   "cell_type": "markdown",
   "id": "29da2bb7",
   "metadata": {},
   "source": [
    "You can also do **inner-joins** or **outer-joins** to include no missing values or all missing values, respectively."
   ]
  },
  {
   "cell_type": "code",
   "execution_count": null,
   "id": "d90e378b",
   "metadata": {},
   "outputs": [],
   "source": [
    "len(aarc_nf.department_taxonomies.join(\n",
    "    aarc_nf.fields,\n",
    "    on=\"FieldId\",\n",
    "    how=\"outer\"\n",
    "))"
   ]
  },
  {
   "cell_type": "markdown",
   "id": "b0c8ad29",
   "metadata": {},
   "source": [
    "Finally, `.join` always matches the values in the `on`-column to the index (!) of the reference table.\n",
    "Panda's `.merge`-function is more powerful and allows to match arbitrarily on indices or columns of either table."
   ]
  },
  {
   "cell_type": "markdown",
   "id": "424d9d02",
   "metadata": {},
   "source": [
    "## Advanced topics"
   ]
  },
  {
   "cell_type": "markdown",
   "id": "d3d25fdd",
   "metadata": {},
   "source": [
    "### Databases"
   ]
  },
  {
   "cell_type": "markdown",
   "id": "210bd023",
   "metadata": {},
   "source": [
    "Databases are often used when datasets are too big to be stored in local memory or when many people need to work on the same dataset.\n",
    "All concepts naturally translate to databases (in fact it's what normalization was developed for initially).\n",
    "The most common databases for relational data are based on the SQL-language.\n",
    "Everything presented here naturally translates to these databases, where each `DataFrame` is represented as its own table."
   ]
  },
  {
   "cell_type": "code",
   "execution_count": null,
   "id": "fbefbe16",
   "metadata": {},
   "outputs": [],
   "source": [
    "# Connect to a temporary SQLite database:\n",
    "with sqlite3.connect(FOLDER_DB) as conn:\n",
    "    # Creates tables based on the persons and appointments DataFrames:\n",
    "    aarc_nf.persons.to_sql(\n",
    "        \"persons\",\n",
    "        conn,\n",
    "        if_exists=\"replace\",\n",
    "        index=True,\n",
    "    )\n",
    "    aarc_nf.appointments.to_sql(\n",
    "        \"appointments\",\n",
    "        conn,\n",
    "        if_exists=\"replace\",\n",
    "        index=True,\n",
    "    )\n",
    "\n",
    "    # Get number of faculty members broken down by gender, department, and year:\n",
    "    res = conn.execute(\"\"\"\n",
    "        SELECT\n",
    "            p.gender,\n",
    "            a.departmentid,\n",
    "            a.year,\n",
    "            COUNT(DISTINCT p.personid) AS count\n",
    "        FROM appointments AS a\n",
    "        JOIN persons AS p\n",
    "        ON a.personid = p.personid\n",
    "        GROUP BY\n",
    "            a.departmentid,\n",
    "            a.year\"\"\"\n",
    "    ).fetchall() # Get all results\n",
    "res"
   ]
  },
  {
   "cell_type": "markdown",
   "id": "9f0ccd3e",
   "metadata": {},
   "source": [
    "### Other normal forms"
   ]
  },
  {
   "cell_type": "markdown",
   "id": "4b8757a7",
   "metadata": {},
   "source": [
    "#### 1. Normal Form (1NF)\n",
    "- each cell consists of **atomic** elements only\n",
    "  - no collections of values are allowed\n",
    "- the `AARC-v3` dataset already follows this normal form\n",
    "- let's consider an artificial counter example"
   ]
  },
  {
   "cell_type": "code",
   "execution_count": null,
   "id": "08f9682b",
   "metadata": {},
   "outputs": [],
   "source": [
    "unf = pd.DataFrame(\n",
    "    data={\n",
    "        \"DepartmentId\": [1, 2, 3],\n",
    "        \"Year\": [2020, 2021, 2022],\n",
    "        \"DepartmentName\": [\"A\", \"B\", \"C\"],\n",
    "        \"PersonId\": [[1,2], [3,4,5], [10]],\n",
    "        \"PrestigeRank\": [.1, .1, .2],\n",
    "        \"DepartmentHead\": [\"Bob\", \"Alice\", \"Charlie\"],\n",
    "        \"DepartmentHeadGender\": [\"M\", \"W\", \"M\"],\n",
    "    }\n",
    ")\n",
    "unf"
   ]
  },
  {
   "cell_type": "markdown",
   "id": "910ec3ee",
   "metadata": {},
   "source": [
    "This can be transformed to 1NF by \n",
    "- **exploding** the `PersonId` column (the name of the functions matches its implications)"
   ]
  },
  {
   "cell_type": "code",
   "execution_count": null,
   "id": "9f7fa4df",
   "metadata": {},
   "outputs": [],
   "source": [
    "aarc_toy = unf.explode(\"PersonId\")\n",
    "aarc_toy"
   ]
  },
  {
   "cell_type": "markdown",
   "id": "e0223dd5",
   "metadata": {},
   "source": [
    "- this is the current state of the `AARC-v3` dataset!\n",
    "  - note the redundancy in `DepartmentName` and the lack of identifiability\n",
    "- better: separation into multiple tables\n",
    "  - indexed by their **primary key**"
   ]
  },
  {
   "cell_type": "code",
   "execution_count": null,
   "id": "33578d74",
   "metadata": {},
   "outputs": [],
   "source": [
    "aarc_toy_hiring = aarc_toy\\\n",
    "    [[\"DepartmentId\", \"PersonId\", \"Year\", \"PrestigeRank\"]]\\\n",
    "    .drop_duplicates()\\\n",
    "    .set_index([\"DepartmentId\", \"PersonId\", \"Year\"])\\\n",
    "    .sort_index()\n",
    "aarc_toy_hiring"
   ]
  },
  {
   "cell_type": "code",
   "execution_count": null,
   "id": "7de06e70",
   "metadata": {},
   "outputs": [],
   "source": [
    "aarc_toy_dep = aarc_toy\\\n",
    "    [[\"DepartmentId\", \"DepartmentName\", \"DepartmentHead\", \"DepartmentHeadGender\"]]\\\n",
    "    .drop_duplicates()\\\n",
    "    .set_index(\"DepartmentId\")\n",
    "aarc_toy_dep"
   ]
  },
  {
   "cell_type": "markdown",
   "id": "4df7f663",
   "metadata": {},
   "source": [
    "#### 2. Normal Form (2NF)\n",
    "- 2NF requires that all columns depend on the full **primary key**\n",
    "- `aarc_toy`, `aarc_toy_hiring` and the full sample `aarc_sample_raw` all violate this requirement\n",
    "  - for instance, `PrestigeRank` in `aarc_toy_hiring` depends only on `DepartmentId` and `Year`, but not on `PersonId`\n",
    "  - there are many more examples in the full sample\n",
    "    - `DepartmentName` depends only on `DepartmentId` not on the other key parts (`PersonId`, `Year`, `InstitutionId`, ...)"
   ]
  },
  {
   "cell_type": "code",
   "execution_count": null,
   "id": "8efff764",
   "metadata": {},
   "outputs": [],
   "source": [
    "aarc_toy[[\"DepartmentId\", \"PersonId\", \"Year\"]].drop_duplicates()"
   ]
  },
  {
   "cell_type": "code",
   "execution_count": null,
   "id": "76e7c480",
   "metadata": {},
   "outputs": [],
   "source": [
    "aarc_toy[[\"DepartmentId\", \"Year\", \"PrestigeRank\"]].drop_duplicates().set_index(\n",
    "    [\"DepartmentId\", \"Year\"]\n",
    ").sort_index()"
   ]
  },
  {
   "cell_type": "markdown",
   "id": "66765e4f",
   "metadata": {},
   "source": [
    "#### 3. Normal Form (3NF)\n",
    "- 3NF requires that there are no transitive dependencies\n",
    "- in our toy example, `aarc_toy_dep` still violates this because `DepartmentHeadGender` depends on `DepartmentHead` which depends on `DepartmentId`"
   ]
  },
  {
   "cell_type": "code",
   "execution_count": null,
   "id": "9ff26330",
   "metadata": {},
   "outputs": [],
   "source": [
    "aarc_toy_dep.reset_index()[[\"DepartmentHead\", \"DepartmentHeadGender\"]].drop_duplicates()"
   ]
  },
  {
   "cell_type": "code",
   "execution_count": null,
   "id": "5fe67fa5",
   "metadata": {},
   "outputs": [],
   "source": [
    "aarc_toy_dep[[\"DepartmentHead\", \"DepartmentName\"]].drop_duplicates()"
   ]
  },
  {
   "cell_type": "markdown",
   "id": "b4273790",
   "metadata": {},
   "source": [
    "- we created four separate tables, each representing a unique entity or relationship\n",
    "- there is no redundant data and each entity/relationship is identifiable"
   ]
  }
 ],
 "metadata": {
  "kernelspec": {
   "display_name": "data_norm",
   "language": "python",
   "name": "python3"
  },
  "language_info": {
   "codemirror_mode": {
    "name": "ipython",
    "version": 3
   },
   "file_extension": ".py",
   "mimetype": "text/x-python",
   "name": "python",
   "nbconvert_exporter": "python",
   "pygments_lexer": "ipython3",
   "version": "3.10.17"
  }
 },
 "nbformat": 4,
 "nbformat_minor": 5
}
