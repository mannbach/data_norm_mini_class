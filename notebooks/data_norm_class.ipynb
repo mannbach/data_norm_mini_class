{
 "cells": [
  {
   "cell_type": "markdown",
   "id": "f96d56a4",
   "metadata": {},
   "source": [
    "# Data Normalization Mini Class"
   ]
  },
  {
   "cell_type": "code",
   "execution_count": 1,
   "id": "f3c2496c",
   "metadata": {},
   "outputs": [],
   "source": [
    "import os\n",
    "\n",
    "import pandas as pd\n",
    "import sqlite3\n",
    "\n",
    "from data_norm_class.constants import (\n",
    "    FILE_DATA_RAW,\n",
    "    FOLDER_DATA_NORMALIZED\n",
    ")\n",
    "from data_norm_class.io import (\n",
    "    read_raw_aarc_data\n",
    ")"
   ]
  },
  {
   "cell_type": "code",
   "execution_count": 7,
   "id": "2baced9a",
   "metadata": {},
   "outputs": [],
   "source": [
    "FOLDER_DATA_NORMALIZED = os.path.join(\"..\", FOLDER_DATA_NORMALIZED)\n",
    "FILE_DATA_RAW = os.path.join(\"..\", FILE_DATA_RAW)"
   ]
  }
 ],
 "metadata": {
  "kernelspec": {
   "display_name": "data_norm",
   "language": "python",
   "name": "python3"
  },
  "language_info": {
   "codemirror_mode": {
    "name": "ipython",
    "version": 3
   },
   "file_extension": ".py",
   "mimetype": "text/x-python",
   "name": "python",
   "nbconvert_exporter": "python",
   "pygments_lexer": "ipython3",
   "version": "3.10.17"
  }
 },
 "nbformat": 4,
 "nbformat_minor": 5
}
