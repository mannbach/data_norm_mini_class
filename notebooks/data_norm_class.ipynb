{
 "cells": [
  {
   "cell_type": "markdown",
   "id": "f96d56a4",
   "metadata": {},
   "source": [
    "# Data Normalization Mini Class"
   ]
  },
  {
   "cell_type": "code",
   "execution_count": 1,
   "id": "f3c2496c",
   "metadata": {},
   "outputs": [],
   "source": [
    "import os\n",
    "\n",
    "import pandas as pd\n",
    "import sqlite3\n",
    "\n",
    "from data_norm_class.constants import (\n",
    "    FILE_DATA_RAW,\n",
    "    FOLDER_DATA_NORMALIZED\n",
    ")\n",
    "from data_norm_class.io import (\n",
    "    read_raw_aarc_data\n",
    ")"
   ]
  },
  {
   "cell_type": "code",
   "execution_count": 7,
   "id": "2baced9a",
   "metadata": {},
   "outputs": [],
   "source": [
    "FOLDER_DATA_NORMALIZED = os.path.join(\"..\", FOLDER_DATA_NORMALIZED)\n",
    "FILE_DATA_RAW = os.path.join(\"..\", FILE_DATA_RAW)"
   ]
  },
  {
   "cell_type": "markdown",
   "id": "6c879c64",
   "metadata": {},
   "source": [
    "## What's the problem with single CSV files?"
   ]
  },
  {
   "cell_type": "markdown",
   "id": "c5b2f8a7",
   "metadata": {},
   "source": [
    "### Redundancy"
   ]
  },
  {
   "cell_type": "markdown",
   "id": "585ef306",
   "metadata": {},
   "source": [
    "### Integrity"
   ]
  },
  {
   "cell_type": "markdown",
   "id": "7a902f08",
   "metadata": {},
   "source": [
    "### Scaling"
   ]
  },
  {
   "cell_type": "markdown",
   "id": "418b3097",
   "metadata": {},
   "source": [
    "## Data normalization"
   ]
  },
  {
   "cell_type": "markdown",
   "id": "a5b97f81",
   "metadata": {},
   "source": [
    "### Normal Forms"
   ]
  },
  {
   "cell_type": "markdown",
   "id": "4b8757a7",
   "metadata": {},
   "source": [
    "#### 1. Normal Form (1NF)"
   ]
  },
  {
   "cell_type": "markdown",
   "id": "4df7f663",
   "metadata": {},
   "source": [
    "#### 2. Normal Form (2NF)"
   ]
  },
  {
   "cell_type": "markdown",
   "id": "66765e4f",
   "metadata": {},
   "source": [
    "#### 3. Normal Form (3NF)"
   ]
  },
  {
   "cell_type": "markdown",
   "id": "c5c6e499",
   "metadata": {},
   "source": [
    "### Entity-Relationship diagrams"
   ]
  },
  {
   "cell_type": "markdown",
   "id": "6cf206d8",
   "metadata": {},
   "source": [
    "## Working with normalized data"
   ]
  },
  {
   "cell_type": "markdown",
   "id": "97152208",
   "metadata": {},
   "source": [
    "### Transforming AARC to 3NF"
   ]
  },
  {
   "cell_type": "markdown",
   "id": "decf4f77",
   "metadata": {},
   "source": [
    "### [Optional] Collections "
   ]
  },
  {
   "cell_type": "markdown",
   "id": "31e5871a",
   "metadata": {},
   "source": [
    "### Simple statistics"
   ]
  },
  {
   "cell_type": "markdown",
   "id": "6220a528",
   "metadata": {},
   "source": [
    "### Joining"
   ]
  },
  {
   "cell_type": "markdown",
   "id": "424d9d02",
   "metadata": {},
   "source": [
    "## Advanced topics"
   ]
  },
  {
   "cell_type": "markdown",
   "id": "a1f2e2b5",
   "metadata": {},
   "source": [
    "### Missing data"
   ]
  },
  {
   "cell_type": "markdown",
   "id": "5efdc230",
   "metadata": {},
   "source": [
    "### Delete cascades"
   ]
  },
  {
   "cell_type": "markdown",
   "id": "d3d25fdd",
   "metadata": {},
   "source": [
    "### Databases"
   ]
  }
 ],
 "metadata": {
  "kernelspec": {
   "display_name": "data_norm",
   "language": "python",
   "name": "python3"
  },
  "language_info": {
   "codemirror_mode": {
    "name": "ipython",
    "version": 3
   },
   "file_extension": ".py",
   "mimetype": "text/x-python",
   "name": "python",
   "nbconvert_exporter": "python",
   "pygments_lexer": "ipython3",
   "version": "3.10.17"
  }
 },
 "nbformat": 4,
 "nbformat_minor": 5
}
